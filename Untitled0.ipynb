{
  "nbformat": 4,
  "nbformat_minor": 0,
  "metadata": {
    "colab": {
      "name": "Untitled0.ipynb",
      "provenance": []
    },
    "kernelspec": {
      "name": "python3",
      "display_name": "Python 3"
    },
    "language_info": {
      "name": "python"
    }
  },
  "cells": [
    {
      "cell_type": "code",
      "execution_count": 2,
      "metadata": {
        "id": "qfy_hQwQDCtY"
      },
      "outputs": [],
      "source": [
        "import numpy as np\n",
        "import pandas as pd\n",
        "import matplotlib.pyplot as plt\n",
        "from sklearn.model_selection import train_test_split\n",
        "import seaborn as sns\n",
        "from sklearn.linear_model import LogisticRegression\n",
        "%matplotlib inline"
      ]
    },
    {
      "cell_type": "code",
      "source": [
        "data=pd.read_csv(r\"/crack_detection.csv\")\n"
      ],
      "metadata": {
        "id": "3h5n0tjRH_EV"
      },
      "execution_count": 23,
      "outputs": []
    },
    {
      "cell_type": "code",
      "source": [
        "data.head()"
      ],
      "metadata": {
        "colab": {
          "base_uri": "https://localhost:8080/",
          "height": 317
        },
        "id": "W-YyA925Eurh",
        "outputId": "87c92e2a-356e-43dc-a81b-2f2563f1a1a4"
      },
      "execution_count": 24,
      "outputs": [
        {
          "output_type": "execute_result",
          "data": {
            "text/plain": [
              "   Unnamed: 0    mean_r      std_r     kur_r    skew_r    mean_g      std_g  \\\n",
              "0           0  107.5734  29.267480  0.744029  0.408828  110.2533  26.953218   \n",
              "1           1  178.6713  14.917756  3.192406  0.238175  184.4947  14.882156   \n",
              "2           2  176.6517  34.618255 -0.146336 -0.421552  161.3083  33.688699   \n",
              "3           3  113.5760  20.084502  0.719752  0.737728  114.0056  19.536222   \n",
              "4           4  125.3565  29.251595  0.430344  0.833496  129.5277  28.661968   \n",
              "\n",
              "      kur_g    skew_g    mean_b  ...  contrast_r  contrast_g  contrast_b  \\\n",
              "0  1.254689 -0.135613  113.5715  ...    9.181953       177.0       173.0   \n",
              "1  3.035196  0.141160  190.8538  ...    9.207314       142.0       136.0   \n",
              "2  0.057178 -0.521476  147.2760  ...    9.186737       199.0       200.0   \n",
              "3  0.655846  0.729521  113.6179  ...    9.197973       146.0       142.0   \n",
              "4  0.475502  0.804161  131.9745  ...    9.189257       173.0       176.0   \n",
              "\n",
              "   corr_rg   corr_rb   corr_gb  moment_r     moment_g     moment_b  label  \n",
              "0    162.0  0.951368  0.913876  0.803333   856.585412   726.475939      0  \n",
              "1    129.0  0.988325  0.989474  0.976787   222.539456   221.478572      0  \n",
              "2    194.0  0.968581  0.967398  0.890845  1198.423587  1134.928451      1  \n",
              "3    138.0  0.987383  0.983663  0.961305   403.387224   381.663969      0  \n",
              "4    177.0  0.980727  0.986702  0.950291   855.655808   821.508433      1  \n",
              "\n",
              "[5 rows x 25 columns]"
            ],
            "text/html": [
              "\n",
              "  <div id=\"df-01935225-c6cc-4337-8fc5-77fc54eee1f2\">\n",
              "    <div class=\"colab-df-container\">\n",
              "      <div>\n",
              "<style scoped>\n",
              "    .dataframe tbody tr th:only-of-type {\n",
              "        vertical-align: middle;\n",
              "    }\n",
              "\n",
              "    .dataframe tbody tr th {\n",
              "        vertical-align: top;\n",
              "    }\n",
              "\n",
              "    .dataframe thead th {\n",
              "        text-align: right;\n",
              "    }\n",
              "</style>\n",
              "<table border=\"1\" class=\"dataframe\">\n",
              "  <thead>\n",
              "    <tr style=\"text-align: right;\">\n",
              "      <th></th>\n",
              "      <th>Unnamed: 0</th>\n",
              "      <th>mean_r</th>\n",
              "      <th>std_r</th>\n",
              "      <th>kur_r</th>\n",
              "      <th>skew_r</th>\n",
              "      <th>mean_g</th>\n",
              "      <th>std_g</th>\n",
              "      <th>kur_g</th>\n",
              "      <th>skew_g</th>\n",
              "      <th>mean_b</th>\n",
              "      <th>...</th>\n",
              "      <th>contrast_r</th>\n",
              "      <th>contrast_g</th>\n",
              "      <th>contrast_b</th>\n",
              "      <th>corr_rg</th>\n",
              "      <th>corr_rb</th>\n",
              "      <th>corr_gb</th>\n",
              "      <th>moment_r</th>\n",
              "      <th>moment_g</th>\n",
              "      <th>moment_b</th>\n",
              "      <th>label</th>\n",
              "    </tr>\n",
              "  </thead>\n",
              "  <tbody>\n",
              "    <tr>\n",
              "      <th>0</th>\n",
              "      <td>0</td>\n",
              "      <td>107.5734</td>\n",
              "      <td>29.267480</td>\n",
              "      <td>0.744029</td>\n",
              "      <td>0.408828</td>\n",
              "      <td>110.2533</td>\n",
              "      <td>26.953218</td>\n",
              "      <td>1.254689</td>\n",
              "      <td>-0.135613</td>\n",
              "      <td>113.5715</td>\n",
              "      <td>...</td>\n",
              "      <td>9.181953</td>\n",
              "      <td>177.0</td>\n",
              "      <td>173.0</td>\n",
              "      <td>162.0</td>\n",
              "      <td>0.951368</td>\n",
              "      <td>0.913876</td>\n",
              "      <td>0.803333</td>\n",
              "      <td>856.585412</td>\n",
              "      <td>726.475939</td>\n",
              "      <td>0</td>\n",
              "    </tr>\n",
              "    <tr>\n",
              "      <th>1</th>\n",
              "      <td>1</td>\n",
              "      <td>178.6713</td>\n",
              "      <td>14.917756</td>\n",
              "      <td>3.192406</td>\n",
              "      <td>0.238175</td>\n",
              "      <td>184.4947</td>\n",
              "      <td>14.882156</td>\n",
              "      <td>3.035196</td>\n",
              "      <td>0.141160</td>\n",
              "      <td>190.8538</td>\n",
              "      <td>...</td>\n",
              "      <td>9.207314</td>\n",
              "      <td>142.0</td>\n",
              "      <td>136.0</td>\n",
              "      <td>129.0</td>\n",
              "      <td>0.988325</td>\n",
              "      <td>0.989474</td>\n",
              "      <td>0.976787</td>\n",
              "      <td>222.539456</td>\n",
              "      <td>221.478572</td>\n",
              "      <td>0</td>\n",
              "    </tr>\n",
              "    <tr>\n",
              "      <th>2</th>\n",
              "      <td>2</td>\n",
              "      <td>176.6517</td>\n",
              "      <td>34.618255</td>\n",
              "      <td>-0.146336</td>\n",
              "      <td>-0.421552</td>\n",
              "      <td>161.3083</td>\n",
              "      <td>33.688699</td>\n",
              "      <td>0.057178</td>\n",
              "      <td>-0.521476</td>\n",
              "      <td>147.2760</td>\n",
              "      <td>...</td>\n",
              "      <td>9.186737</td>\n",
              "      <td>199.0</td>\n",
              "      <td>200.0</td>\n",
              "      <td>194.0</td>\n",
              "      <td>0.968581</td>\n",
              "      <td>0.967398</td>\n",
              "      <td>0.890845</td>\n",
              "      <td>1198.423587</td>\n",
              "      <td>1134.928451</td>\n",
              "      <td>1</td>\n",
              "    </tr>\n",
              "    <tr>\n",
              "      <th>3</th>\n",
              "      <td>3</td>\n",
              "      <td>113.5760</td>\n",
              "      <td>20.084502</td>\n",
              "      <td>0.719752</td>\n",
              "      <td>0.737728</td>\n",
              "      <td>114.0056</td>\n",
              "      <td>19.536222</td>\n",
              "      <td>0.655846</td>\n",
              "      <td>0.729521</td>\n",
              "      <td>113.6179</td>\n",
              "      <td>...</td>\n",
              "      <td>9.197973</td>\n",
              "      <td>146.0</td>\n",
              "      <td>142.0</td>\n",
              "      <td>138.0</td>\n",
              "      <td>0.987383</td>\n",
              "      <td>0.983663</td>\n",
              "      <td>0.961305</td>\n",
              "      <td>403.387224</td>\n",
              "      <td>381.663969</td>\n",
              "      <td>0</td>\n",
              "    </tr>\n",
              "    <tr>\n",
              "      <th>4</th>\n",
              "      <td>4</td>\n",
              "      <td>125.3565</td>\n",
              "      <td>29.251595</td>\n",
              "      <td>0.430344</td>\n",
              "      <td>0.833496</td>\n",
              "      <td>129.5277</td>\n",
              "      <td>28.661968</td>\n",
              "      <td>0.475502</td>\n",
              "      <td>0.804161</td>\n",
              "      <td>131.9745</td>\n",
              "      <td>...</td>\n",
              "      <td>9.189257</td>\n",
              "      <td>173.0</td>\n",
              "      <td>176.0</td>\n",
              "      <td>177.0</td>\n",
              "      <td>0.980727</td>\n",
              "      <td>0.986702</td>\n",
              "      <td>0.950291</td>\n",
              "      <td>855.655808</td>\n",
              "      <td>821.508433</td>\n",
              "      <td>1</td>\n",
              "    </tr>\n",
              "  </tbody>\n",
              "</table>\n",
              "<p>5 rows × 25 columns</p>\n",
              "</div>\n",
              "      <button class=\"colab-df-convert\" onclick=\"convertToInteractive('df-01935225-c6cc-4337-8fc5-77fc54eee1f2')\"\n",
              "              title=\"Convert this dataframe to an interactive table.\"\n",
              "              style=\"display:none;\">\n",
              "        \n",
              "  <svg xmlns=\"http://www.w3.org/2000/svg\" height=\"24px\"viewBox=\"0 0 24 24\"\n",
              "       width=\"24px\">\n",
              "    <path d=\"M0 0h24v24H0V0z\" fill=\"none\"/>\n",
              "    <path d=\"M18.56 5.44l.94 2.06.94-2.06 2.06-.94-2.06-.94-.94-2.06-.94 2.06-2.06.94zm-11 1L8.5 8.5l.94-2.06 2.06-.94-2.06-.94L8.5 2.5l-.94 2.06-2.06.94zm10 10l.94 2.06.94-2.06 2.06-.94-2.06-.94-.94-2.06-.94 2.06-2.06.94z\"/><path d=\"M17.41 7.96l-1.37-1.37c-.4-.4-.92-.59-1.43-.59-.52 0-1.04.2-1.43.59L10.3 9.45l-7.72 7.72c-.78.78-.78 2.05 0 2.83L4 21.41c.39.39.9.59 1.41.59.51 0 1.02-.2 1.41-.59l7.78-7.78 2.81-2.81c.8-.78.8-2.07 0-2.86zM5.41 20L4 18.59l7.72-7.72 1.47 1.35L5.41 20z\"/>\n",
              "  </svg>\n",
              "      </button>\n",
              "      \n",
              "  <style>\n",
              "    .colab-df-container {\n",
              "      display:flex;\n",
              "      flex-wrap:wrap;\n",
              "      gap: 12px;\n",
              "    }\n",
              "\n",
              "    .colab-df-convert {\n",
              "      background-color: #E8F0FE;\n",
              "      border: none;\n",
              "      border-radius: 50%;\n",
              "      cursor: pointer;\n",
              "      display: none;\n",
              "      fill: #1967D2;\n",
              "      height: 32px;\n",
              "      padding: 0 0 0 0;\n",
              "      width: 32px;\n",
              "    }\n",
              "\n",
              "    .colab-df-convert:hover {\n",
              "      background-color: #E2EBFA;\n",
              "      box-shadow: 0px 1px 2px rgba(60, 64, 67, 0.3), 0px 1px 3px 1px rgba(60, 64, 67, 0.15);\n",
              "      fill: #174EA6;\n",
              "    }\n",
              "\n",
              "    [theme=dark] .colab-df-convert {\n",
              "      background-color: #3B4455;\n",
              "      fill: #D2E3FC;\n",
              "    }\n",
              "\n",
              "    [theme=dark] .colab-df-convert:hover {\n",
              "      background-color: #434B5C;\n",
              "      box-shadow: 0px 1px 3px 1px rgba(0, 0, 0, 0.15);\n",
              "      filter: drop-shadow(0px 1px 2px rgba(0, 0, 0, 0.3));\n",
              "      fill: #FFFFFF;\n",
              "    }\n",
              "  </style>\n",
              "\n",
              "      <script>\n",
              "        const buttonEl =\n",
              "          document.querySelector('#df-01935225-c6cc-4337-8fc5-77fc54eee1f2 button.colab-df-convert');\n",
              "        buttonEl.style.display =\n",
              "          google.colab.kernel.accessAllowed ? 'block' : 'none';\n",
              "\n",
              "        async function convertToInteractive(key) {\n",
              "          const element = document.querySelector('#df-01935225-c6cc-4337-8fc5-77fc54eee1f2');\n",
              "          const dataTable =\n",
              "            await google.colab.kernel.invokeFunction('convertToInteractive',\n",
              "                                                     [key], {});\n",
              "          if (!dataTable) return;\n",
              "\n",
              "          const docLinkHtml = 'Like what you see? Visit the ' +\n",
              "            '<a target=\"_blank\" href=https://colab.research.google.com/notebooks/data_table.ipynb>data table notebook</a>'\n",
              "            + ' to learn more about interactive tables.';\n",
              "          element.innerHTML = '';\n",
              "          dataTable['output_type'] = 'display_data';\n",
              "          await google.colab.output.renderOutput(dataTable, element);\n",
              "          const docLink = document.createElement('div');\n",
              "          docLink.innerHTML = docLinkHtml;\n",
              "          element.appendChild(docLink);\n",
              "        }\n",
              "      </script>\n",
              "    </div>\n",
              "  </div>\n",
              "  "
            ]
          },
          "metadata": {},
          "execution_count": 24
        }
      ]
    },
    {
      "cell_type": "code",
      "source": [
        "data.info()"
      ],
      "metadata": {
        "colab": {
          "base_uri": "https://localhost:8080/"
        },
        "id": "u0aME48sENG0",
        "outputId": "2da54b16-c48b-4894-93f0-8d14d094ef8b"
      },
      "execution_count": 25,
      "outputs": [
        {
          "output_type": "stream",
          "name": "stdout",
          "text": [
            "<class 'pandas.core.frame.DataFrame'>\n",
            "RangeIndex: 700 entries, 0 to 699\n",
            "Data columns (total 25 columns):\n",
            " #   Column      Non-Null Count  Dtype  \n",
            "---  ------      --------------  -----  \n",
            " 0   Unnamed: 0  700 non-null    int64  \n",
            " 1   mean_r      700 non-null    float64\n",
            " 2   std_r       700 non-null    float64\n",
            " 3   kur_r       700 non-null    float64\n",
            " 4   skew_r      700 non-null    float64\n",
            " 5   mean_g      700 non-null    float64\n",
            " 6   std_g       700 non-null    float64\n",
            " 7   kur_g       700 non-null    float64\n",
            " 8   skew_g      700 non-null    float64\n",
            " 9   mean_b      700 non-null    float64\n",
            " 10  std_b       700 non-null    float64\n",
            " 11  kur_b       700 non-null    float64\n",
            " 12  skew_b      700 non-null    float64\n",
            " 13  entropy_r   700 non-null    float64\n",
            " 14  entropy_g   700 non-null    float64\n",
            " 15  contrast_r  700 non-null    float64\n",
            " 16  contrast_g  700 non-null    float64\n",
            " 17  contrast_b  700 non-null    float64\n",
            " 18  corr_rg     700 non-null    float64\n",
            " 19  corr_rb     700 non-null    float64\n",
            " 20  corr_gb     700 non-null    float64\n",
            " 21  moment_r    700 non-null    float64\n",
            " 22  moment_g    700 non-null    float64\n",
            " 23  moment_b    700 non-null    float64\n",
            " 24  label       700 non-null    int64  \n",
            "dtypes: float64(23), int64(2)\n",
            "memory usage: 136.8 KB\n"
          ]
        }
      ]
    },
    {
      "cell_type": "code",
      "source": [
        "data['label'].value_counts()"
      ],
      "metadata": {
        "colab": {
          "base_uri": "https://localhost:8080/"
        },
        "id": "KuqW1XT2Mz1B",
        "outputId": "289dddd3-4771-483d-fc01-c74c03056aaa"
      },
      "execution_count": 27,
      "outputs": [
        {
          "output_type": "execute_result",
          "data": {
            "text/plain": [
              "0    351\n",
              "1    349\n",
              "Name: label, dtype: int64"
            ]
          },
          "metadata": {},
          "execution_count": 27
        }
      ]
    },
    {
      "cell_type": "code",
      "source": [
        "data.tail()"
      ],
      "metadata": {
        "colab": {
          "base_uri": "https://localhost:8080/",
          "height": 317
        },
        "id": "G_aBTyIVF3Ac",
        "outputId": "e5f1fd41-290c-478d-cd93-a2e74ea3e6d1"
      },
      "execution_count": 28,
      "outputs": [
        {
          "output_type": "execute_result",
          "data": {
            "text/plain": [
              "     Unnamed: 0    mean_r      std_r     kur_r    skew_r    mean_g      std_g  \\\n",
              "695         695  147.4849  39.849040 -0.413560 -0.713162  143.8830  36.109081   \n",
              "696         696  131.6387  22.462007  0.060316 -0.598803  129.3470  20.965238   \n",
              "697         697  124.9098  24.410827 -0.014904  0.298252  130.4604  23.675959   \n",
              "698         698  100.5366  41.107908 -0.385692  0.309762   98.8532  40.835684   \n",
              "699         699  138.0759   6.627016  2.339072  0.414758  137.9345   6.328697   \n",
              "\n",
              "        kur_g    skew_g    mean_b  ...  contrast_r  contrast_g  contrast_b  \\\n",
              "695 -0.333042 -0.721668  138.3563  ...    9.180812       196.0       180.0   \n",
              "696  0.249974 -0.611380  125.9734  ...    9.199403       169.0       163.0   \n",
              "697 -0.086843  0.180634  135.0006  ...    9.195094       152.0       145.0   \n",
              "698 -0.356037  0.269909   98.9559  ...    9.125664       233.0       231.0   \n",
              "699  2.939153  0.477630  137.8309  ...    9.209413        93.0        91.0   \n",
              "\n",
              "     corr_rg   corr_rb   corr_gb  moment_r     moment_g     moment_b  label  \n",
              "695    168.0  0.991360  0.988178  0.968726  1587.945972  1303.865711      1  \n",
              "696    157.0  0.992205  0.977108  0.954988   504.541762   439.541191      1  \n",
              "697    143.0  0.981116  0.986397  0.953482   595.888464   560.551032      0  \n",
              "698    227.0  0.996501  0.997454  0.994056  1689.860060  1667.553050      1  \n",
              "699     92.0  0.962479  0.948542  0.926412    43.917339    40.052410      0  \n",
              "\n",
              "[5 rows x 25 columns]"
            ],
            "text/html": [
              "\n",
              "  <div id=\"df-b274ba28-9d4f-428b-9529-cadbf402acaf\">\n",
              "    <div class=\"colab-df-container\">\n",
              "      <div>\n",
              "<style scoped>\n",
              "    .dataframe tbody tr th:only-of-type {\n",
              "        vertical-align: middle;\n",
              "    }\n",
              "\n",
              "    .dataframe tbody tr th {\n",
              "        vertical-align: top;\n",
              "    }\n",
              "\n",
              "    .dataframe thead th {\n",
              "        text-align: right;\n",
              "    }\n",
              "</style>\n",
              "<table border=\"1\" class=\"dataframe\">\n",
              "  <thead>\n",
              "    <tr style=\"text-align: right;\">\n",
              "      <th></th>\n",
              "      <th>Unnamed: 0</th>\n",
              "      <th>mean_r</th>\n",
              "      <th>std_r</th>\n",
              "      <th>kur_r</th>\n",
              "      <th>skew_r</th>\n",
              "      <th>mean_g</th>\n",
              "      <th>std_g</th>\n",
              "      <th>kur_g</th>\n",
              "      <th>skew_g</th>\n",
              "      <th>mean_b</th>\n",
              "      <th>...</th>\n",
              "      <th>contrast_r</th>\n",
              "      <th>contrast_g</th>\n",
              "      <th>contrast_b</th>\n",
              "      <th>corr_rg</th>\n",
              "      <th>corr_rb</th>\n",
              "      <th>corr_gb</th>\n",
              "      <th>moment_r</th>\n",
              "      <th>moment_g</th>\n",
              "      <th>moment_b</th>\n",
              "      <th>label</th>\n",
              "    </tr>\n",
              "  </thead>\n",
              "  <tbody>\n",
              "    <tr>\n",
              "      <th>695</th>\n",
              "      <td>695</td>\n",
              "      <td>147.4849</td>\n",
              "      <td>39.849040</td>\n",
              "      <td>-0.413560</td>\n",
              "      <td>-0.713162</td>\n",
              "      <td>143.8830</td>\n",
              "      <td>36.109081</td>\n",
              "      <td>-0.333042</td>\n",
              "      <td>-0.721668</td>\n",
              "      <td>138.3563</td>\n",
              "      <td>...</td>\n",
              "      <td>9.180812</td>\n",
              "      <td>196.0</td>\n",
              "      <td>180.0</td>\n",
              "      <td>168.0</td>\n",
              "      <td>0.991360</td>\n",
              "      <td>0.988178</td>\n",
              "      <td>0.968726</td>\n",
              "      <td>1587.945972</td>\n",
              "      <td>1303.865711</td>\n",
              "      <td>1</td>\n",
              "    </tr>\n",
              "    <tr>\n",
              "      <th>696</th>\n",
              "      <td>696</td>\n",
              "      <td>131.6387</td>\n",
              "      <td>22.462007</td>\n",
              "      <td>0.060316</td>\n",
              "      <td>-0.598803</td>\n",
              "      <td>129.3470</td>\n",
              "      <td>20.965238</td>\n",
              "      <td>0.249974</td>\n",
              "      <td>-0.611380</td>\n",
              "      <td>125.9734</td>\n",
              "      <td>...</td>\n",
              "      <td>9.199403</td>\n",
              "      <td>169.0</td>\n",
              "      <td>163.0</td>\n",
              "      <td>157.0</td>\n",
              "      <td>0.992205</td>\n",
              "      <td>0.977108</td>\n",
              "      <td>0.954988</td>\n",
              "      <td>504.541762</td>\n",
              "      <td>439.541191</td>\n",
              "      <td>1</td>\n",
              "    </tr>\n",
              "    <tr>\n",
              "      <th>697</th>\n",
              "      <td>697</td>\n",
              "      <td>124.9098</td>\n",
              "      <td>24.410827</td>\n",
              "      <td>-0.014904</td>\n",
              "      <td>0.298252</td>\n",
              "      <td>130.4604</td>\n",
              "      <td>23.675959</td>\n",
              "      <td>-0.086843</td>\n",
              "      <td>0.180634</td>\n",
              "      <td>135.0006</td>\n",
              "      <td>...</td>\n",
              "      <td>9.195094</td>\n",
              "      <td>152.0</td>\n",
              "      <td>145.0</td>\n",
              "      <td>143.0</td>\n",
              "      <td>0.981116</td>\n",
              "      <td>0.986397</td>\n",
              "      <td>0.953482</td>\n",
              "      <td>595.888464</td>\n",
              "      <td>560.551032</td>\n",
              "      <td>0</td>\n",
              "    </tr>\n",
              "    <tr>\n",
              "      <th>698</th>\n",
              "      <td>698</td>\n",
              "      <td>100.5366</td>\n",
              "      <td>41.107908</td>\n",
              "      <td>-0.385692</td>\n",
              "      <td>0.309762</td>\n",
              "      <td>98.8532</td>\n",
              "      <td>40.835684</td>\n",
              "      <td>-0.356037</td>\n",
              "      <td>0.269909</td>\n",
              "      <td>98.9559</td>\n",
              "      <td>...</td>\n",
              "      <td>9.125664</td>\n",
              "      <td>233.0</td>\n",
              "      <td>231.0</td>\n",
              "      <td>227.0</td>\n",
              "      <td>0.996501</td>\n",
              "      <td>0.997454</td>\n",
              "      <td>0.994056</td>\n",
              "      <td>1689.860060</td>\n",
              "      <td>1667.553050</td>\n",
              "      <td>1</td>\n",
              "    </tr>\n",
              "    <tr>\n",
              "      <th>699</th>\n",
              "      <td>699</td>\n",
              "      <td>138.0759</td>\n",
              "      <td>6.627016</td>\n",
              "      <td>2.339072</td>\n",
              "      <td>0.414758</td>\n",
              "      <td>137.9345</td>\n",
              "      <td>6.328697</td>\n",
              "      <td>2.939153</td>\n",
              "      <td>0.477630</td>\n",
              "      <td>137.8309</td>\n",
              "      <td>...</td>\n",
              "      <td>9.209413</td>\n",
              "      <td>93.0</td>\n",
              "      <td>91.0</td>\n",
              "      <td>92.0</td>\n",
              "      <td>0.962479</td>\n",
              "      <td>0.948542</td>\n",
              "      <td>0.926412</td>\n",
              "      <td>43.917339</td>\n",
              "      <td>40.052410</td>\n",
              "      <td>0</td>\n",
              "    </tr>\n",
              "  </tbody>\n",
              "</table>\n",
              "<p>5 rows × 25 columns</p>\n",
              "</div>\n",
              "      <button class=\"colab-df-convert\" onclick=\"convertToInteractive('df-b274ba28-9d4f-428b-9529-cadbf402acaf')\"\n",
              "              title=\"Convert this dataframe to an interactive table.\"\n",
              "              style=\"display:none;\">\n",
              "        \n",
              "  <svg xmlns=\"http://www.w3.org/2000/svg\" height=\"24px\"viewBox=\"0 0 24 24\"\n",
              "       width=\"24px\">\n",
              "    <path d=\"M0 0h24v24H0V0z\" fill=\"none\"/>\n",
              "    <path d=\"M18.56 5.44l.94 2.06.94-2.06 2.06-.94-2.06-.94-.94-2.06-.94 2.06-2.06.94zm-11 1L8.5 8.5l.94-2.06 2.06-.94-2.06-.94L8.5 2.5l-.94 2.06-2.06.94zm10 10l.94 2.06.94-2.06 2.06-.94-2.06-.94-.94-2.06-.94 2.06-2.06.94z\"/><path d=\"M17.41 7.96l-1.37-1.37c-.4-.4-.92-.59-1.43-.59-.52 0-1.04.2-1.43.59L10.3 9.45l-7.72 7.72c-.78.78-.78 2.05 0 2.83L4 21.41c.39.39.9.59 1.41.59.51 0 1.02-.2 1.41-.59l7.78-7.78 2.81-2.81c.8-.78.8-2.07 0-2.86zM5.41 20L4 18.59l7.72-7.72 1.47 1.35L5.41 20z\"/>\n",
              "  </svg>\n",
              "      </button>\n",
              "      \n",
              "  <style>\n",
              "    .colab-df-container {\n",
              "      display:flex;\n",
              "      flex-wrap:wrap;\n",
              "      gap: 12px;\n",
              "    }\n",
              "\n",
              "    .colab-df-convert {\n",
              "      background-color: #E8F0FE;\n",
              "      border: none;\n",
              "      border-radius: 50%;\n",
              "      cursor: pointer;\n",
              "      display: none;\n",
              "      fill: #1967D2;\n",
              "      height: 32px;\n",
              "      padding: 0 0 0 0;\n",
              "      width: 32px;\n",
              "    }\n",
              "\n",
              "    .colab-df-convert:hover {\n",
              "      background-color: #E2EBFA;\n",
              "      box-shadow: 0px 1px 2px rgba(60, 64, 67, 0.3), 0px 1px 3px 1px rgba(60, 64, 67, 0.15);\n",
              "      fill: #174EA6;\n",
              "    }\n",
              "\n",
              "    [theme=dark] .colab-df-convert {\n",
              "      background-color: #3B4455;\n",
              "      fill: #D2E3FC;\n",
              "    }\n",
              "\n",
              "    [theme=dark] .colab-df-convert:hover {\n",
              "      background-color: #434B5C;\n",
              "      box-shadow: 0px 1px 3px 1px rgba(0, 0, 0, 0.15);\n",
              "      filter: drop-shadow(0px 1px 2px rgba(0, 0, 0, 0.3));\n",
              "      fill: #FFFFFF;\n",
              "    }\n",
              "  </style>\n",
              "\n",
              "      <script>\n",
              "        const buttonEl =\n",
              "          document.querySelector('#df-b274ba28-9d4f-428b-9529-cadbf402acaf button.colab-df-convert');\n",
              "        buttonEl.style.display =\n",
              "          google.colab.kernel.accessAllowed ? 'block' : 'none';\n",
              "\n",
              "        async function convertToInteractive(key) {\n",
              "          const element = document.querySelector('#df-b274ba28-9d4f-428b-9529-cadbf402acaf');\n",
              "          const dataTable =\n",
              "            await google.colab.kernel.invokeFunction('convertToInteractive',\n",
              "                                                     [key], {});\n",
              "          if (!dataTable) return;\n",
              "\n",
              "          const docLinkHtml = 'Like what you see? Visit the ' +\n",
              "            '<a target=\"_blank\" href=https://colab.research.google.com/notebooks/data_table.ipynb>data table notebook</a>'\n",
              "            + ' to learn more about interactive tables.';\n",
              "          element.innerHTML = '';\n",
              "          dataTable['output_type'] = 'display_data';\n",
              "          await google.colab.output.renderOutput(dataTable, element);\n",
              "          const docLink = document.createElement('div');\n",
              "          docLink.innerHTML = docLinkHtml;\n",
              "          element.appendChild(docLink);\n",
              "        }\n",
              "      </script>\n",
              "    </div>\n",
              "  </div>\n",
              "  "
            ]
          },
          "metadata": {},
          "execution_count": 28
        }
      ]
    },
    {
      "cell_type": "code",
      "source": [
        "data.shape"
      ],
      "metadata": {
        "colab": {
          "base_uri": "https://localhost:8080/"
        },
        "id": "8r09cEhEF5yo",
        "outputId": "69028ba2-8b64-4507-b1c0-b614f3ae4983"
      },
      "execution_count": 29,
      "outputs": [
        {
          "output_type": "execute_result",
          "data": {
            "text/plain": [
              "(700, 25)"
            ]
          },
          "metadata": {},
          "execution_count": 29
        }
      ]
    },
    {
      "cell_type": "markdown",
      "source": [
        "Pre-processing Data"
      ],
      "metadata": {
        "id": "VyGBeZBjJ8q6"
      }
    },
    {
      "cell_type": "code",
      "source": [
        "X = data.iloc[:,:-1].values\n",
        "Y = data.iloc[:,-1:].values"
      ],
      "metadata": {
        "id": "wAIU33TQEvo8"
      },
      "execution_count": 30,
      "outputs": []
    },
    {
      "cell_type": "code",
      "source": [
        "print([X.shape,Y.shape])"
      ],
      "metadata": {
        "colab": {
          "base_uri": "https://localhost:8080/"
        },
        "id": "8l5-WVAROAzO",
        "outputId": "73c5876e-ac09-48fb-ec5d-6fc43afe8643"
      },
      "execution_count": 31,
      "outputs": [
        {
          "output_type": "stream",
          "name": "stdout",
          "text": [
            "[(700, 24), (700, 1)]\n"
          ]
        }
      ]
    },
    {
      "cell_type": "code",
      "source": [
        "def normalize(X):\n",
        "  return (X - np.mean(X,axis = 0))/np.std(X,axis = 0)"
      ],
      "metadata": {
        "id": "HdFgKgqVyF2h"
      },
      "execution_count": 32,
      "outputs": []
    },
    {
      "cell_type": "code",
      "source": [
        "X = normalize(X)"
      ],
      "metadata": {
        "id": "s7hiGQ1dy_4e"
      },
      "execution_count": 33,
      "outputs": []
    },
    {
      "cell_type": "markdown",
      "source": [
        "Train-Test Split"
      ],
      "metadata": {
        "id": "twSEYHSYx1Bo"
      }
    },
    {
      "cell_type": "code",
      "source": [
        "X_train, X_test, y_train, y_test = train_test_split(X, Y, test_size=0.3, random_state=42)"
      ],
      "metadata": {
        "id": "NcQ4Kfj6Fvlf"
      },
      "execution_count": 34,
      "outputs": []
    },
    {
      "cell_type": "code",
      "source": [
        "X_train.shape"
      ],
      "metadata": {
        "colab": {
          "base_uri": "https://localhost:8080/"
        },
        "id": "z4gAP0uHGUYa",
        "outputId": "7aeb9609-62ac-4d20-8de2-24cb8a5088b1"
      },
      "execution_count": 35,
      "outputs": [
        {
          "output_type": "execute_result",
          "data": {
            "text/plain": [
              "(490, 24)"
            ]
          },
          "metadata": {},
          "execution_count": 35
        }
      ]
    },
    {
      "cell_type": "code",
      "source": [
        "y_train.shape"
      ],
      "metadata": {
        "colab": {
          "base_uri": "https://localhost:8080/"
        },
        "id": "MfvDhcs19zQm",
        "outputId": "c51cf04b-e6a9-490e-e5d0-1e9c0fa92125"
      },
      "execution_count": 36,
      "outputs": [
        {
          "output_type": "execute_result",
          "data": {
            "text/plain": [
              "(490, 1)"
            ]
          },
          "metadata": {},
          "execution_count": 36
        }
      ]
    },
    {
      "cell_type": "code",
      "source": [
        "def sigmoid(x):\n",
        "  return 1.0/(1+np.exp(-x))"
      ],
      "metadata": {
        "id": "7lDSaLu9JrFG"
      },
      "execution_count": 37,
      "outputs": []
    },
    {
      "cell_type": "code",
      "source": [
        "def forward(X,W,b):\n",
        "  y = sigmoid(np.dot(X,W)+b)\n",
        "  return y"
      ],
      "metadata": {
        "id": "TjXFRCqW4PUe"
      },
      "execution_count": 38,
      "outputs": []
    },
    {
      "cell_type": "code",
      "source": [
        "def predict(X,W,b):\n",
        "  predicted = sigmoid(np.dot(X,W)+b)\n",
        "  y = np.where(predicted>0.5,1,0)\n",
        "  return y"
      ],
      "metadata": {
        "id": "Y1UfyD6Yxq6B"
      },
      "execution_count": 39,
      "outputs": []
    },
    {
      "cell_type": "code",
      "source": [
        "def costFunct(y,y_hat):\n",
        "  l = -np.mean(np.log(y_hat)*y + np.log(1-y_hat)*(1-y))\n",
        "  return l"
      ],
      "metadata": {
        "id": "_PDlduUI1SaY"
      },
      "execution_count": 40,
      "outputs": []
    },
    {
      "cell_type": "code",
      "source": [
        "def gradient(X,Y,W,b):\n",
        "  m = X.shape[0]\n",
        "  y_hat = np.expand_dims(forward(X,W,b),axis =1)\n",
        "  dw = ((1/m)*np.dot(X.T, (y_hat - Y))).squeeze()\n",
        "  db = (1/m)*(np.sum((y_hat - Y)))\n",
        "  return dw,db"
      ],
      "metadata": {
        "id": "MbDaC9PH4j6d"
      },
      "execution_count": 41,
      "outputs": []
    },
    {
      "cell_type": "code",
      "source": [
        "def BinarylogRegClassifier(X,Y,num_iter,learning_rate=0.001):\n",
        "  m,n = X.shape\n",
        "  W = np.random.random((n))\n",
        "  b = np.random.random(1)\n",
        "  losses = []\n",
        "\n",
        "  for i in range(num_iter):\n",
        "    Y_hat = forward(X,W,b)\n",
        "    losses.append([i,costFunct(Y,Y_hat)])\n",
        "    dw,db = gradient(X,Y,W,b)\n",
        "    W -= learning_rate*dw\n",
        "    b -= learning_rate*db\n",
        "\n",
        "  return losses,W,b"
      ],
      "metadata": {
        "id": "lJ3WWAY_6W2Y"
      },
      "execution_count": 42,
      "outputs": []
    },
    {
      "cell_type": "code",
      "source": [
        "losses,W,b = BinarylogRegClassifier(X_train,y_train,10000)"
      ],
      "metadata": {
        "id": "l2n8PiMf7WUM"
      },
      "execution_count": 43,
      "outputs": []
    },
    {
      "cell_type": "code",
      "source": [
        "losses = np.asarray(losses)"
      ],
      "metadata": {
        "id": "cGJJjhdF9Jrv"
      },
      "execution_count": 44,
      "outputs": []
    },
    {
      "cell_type": "code",
      "source": [
        "losses.shape"
      ],
      "metadata": {
        "colab": {
          "base_uri": "https://localhost:8080/"
        },
        "id": "5yDLn7a-_U63",
        "outputId": "c89b8789-a132-464a-88af-1e90706b9409"
      },
      "execution_count": 45,
      "outputs": [
        {
          "output_type": "execute_result",
          "data": {
            "text/plain": [
              "(10000, 2)"
            ]
          },
          "metadata": {},
          "execution_count": 45
        }
      ]
    },
    {
      "cell_type": "code",
      "source": [
        "epochs = losses[:,0]\n",
        "loss = losses[:,1]"
      ],
      "metadata": {
        "id": "4gsFYqQ5AAPO"
      },
      "execution_count": 46,
      "outputs": []
    },
    {
      "cell_type": "code",
      "source": [
        "plt.plot(epochs,loss)\n",
        "plt.xlabel('Epochs')\n",
        "plt.ylabel('Loss')\n",
        "plt.title(\"Epochs vs Loss\")\n",
        "plt.show()"
      ],
      "metadata": {
        "colab": {
          "base_uri": "https://localhost:8080/",
          "height": 295
        },
        "id": "DDgM_G_NAQ3n",
        "outputId": "0636d8e3-9337-40e5-f310-869779ca34b1"
      },
      "execution_count": 47,
      "outputs": [
        {
          "output_type": "display_data",
          "data": {
            "text/plain": [
              "<Figure size 432x288 with 1 Axes>"
            ],
            "image/png": "[encoded data removed]"
          },
          "metadata": {
            "needs_background": "light"
          }
        }
      ]
    },
    {
      "cell_type": "code",
      "source": [
        "predictions = predict(X_test,W,b)"
      ],
      "metadata": {
        "id": "Lu7hdpsq7Wmm"
      },
      "execution_count": 49,
      "outputs": []
    },
    {
      "cell_type": "code",
      "source": [
        "predictions"
      ],
      "metadata": {
        "colab": {
          "base_uri": "https://localhost:8080/"
        },
        "id": "tD63LKx4CUb5",
        "outputId": "a005639d-df2c-4ef9-d368-f63c8e25058d"
      },
      "execution_count": 50,
      "outputs": [
        {
          "output_type": "execute_result",
          "data": {
            "text/plain": [
              "array([1, 0, 0, 1, 1, 1, 0, 0, 1, 0, 1, 0, 0, 0, 1, 0, 1, 1, 0, 0, 0, 0,\n",
              "       1, 1, 0, 1, 1, 0, 0, 1, 1, 1, 0, 1, 0, 1, 1, 1, 0, 0, 0, 0, 1, 1,\n",
              "       1, 1, 1, 0, 1, 1, 0, 1, 0, 0, 0, 1, 0, 1, 1, 0, 0, 0, 0, 1, 1, 0,\n",
              "       1, 1, 0, 1, 1, 1, 0, 0, 0, 1, 0, 0, 1, 0, 1, 1, 1, 1, 1, 0, 1, 1,\n",
              "       0, 0, 1, 0, 0, 0, 0, 1, 0, 0, 1, 1, 1, 1, 1, 1, 0, 1, 1, 1, 0, 1,\n",
              "       1, 0, 0, 0, 0, 1, 1, 1, 0, 1, 0, 1, 0, 1, 1, 1, 1, 0, 1, 0, 0, 1,\n",
              "       0, 1, 1, 0, 0, 0, 0, 1, 1, 0, 1, 1, 0, 1, 1, 1, 1, 1, 1, 1, 1, 1,\n",
              "       0, 0, 1, 0, 1, 0, 0, 1, 1, 1, 0, 0, 1, 0, 1, 1, 1, 0, 1, 1, 0, 1,\n",
              "       0, 1, 1, 1, 0, 1, 0, 1, 1, 1, 1, 0, 1, 0, 1, 1, 1, 0, 1, 1, 1, 1,\n",
              "       1, 0, 0, 0, 0, 0, 0, 1, 1, 1, 1, 1])"
            ]
          },
          "metadata": {},
          "execution_count": 50
        }
      ]
    },
    {
      "cell_type": "markdown",
      "source": [
        "Checking on Sklearn-Logistic Regression"
      ],
      "metadata": {
        "id": "jweK02c3u4F5"
      }
    },
    {
      "cell_type": "code",
      "source": [
        "logisticRegressor = LogisticRegression()"
      ],
      "metadata": {
        "id": "kM3FhjfVEz8c"
      },
      "execution_count": 52,
      "outputs": []
    },
    {
      "cell_type": "code",
      "source": [
        "logisticRegressor.fit(X_train,y_train.ravel())"
      ],
      "metadata": {
        "colab": {
          "base_uri": "https://localhost:8080/"
        },
        "id": "R3e5bPReFgEj",
        "outputId": "dcf79fdf-18ba-48b7-b25e-67264f311c71"
      },
      "execution_count": 53,
      "outputs": [
        {
          "output_type": "execute_result",
          "data": {
            "text/plain": [
              "LogisticRegression()"
            ]
          },
          "metadata": {},
          "execution_count": 53
        }
      ]
    },
    {
      "cell_type": "code",
      "source": [
        "logisticRegressor.score(X_test,y_test)"
      ],
      "metadata": {
        "colab": {
          "base_uri": "https://localhost:8080/"
        },
        "id": "pUcgx6y1FgIR",
        "outputId": "dd944771-d6d9-416e-db81-4fd9c6b22124"
      },
      "execution_count": 54,
      "outputs": [
        {
          "output_type": "execute_result",
          "data": {
            "text/plain": [
              "0.8666666666666667"
            ]
          },
          "metadata": {},
          "execution_count": 54
        }
      ]
    },
    {
      "cell_type": "code",
      "source": [
        "X_train, X_rem, Y_train, Y_rem = train_test_split(X,Y, train_size=0.6)"
      ],
      "metadata": {
        "id": "l8-3EXkmT_zv"
      },
      "execution_count": 60,
      "outputs": []
    },
    {
      "cell_type": "code",
      "source": [
        "test_size = 0.5"
      ],
      "metadata": {
        "id": "kohggOMIUAsH"
      },
      "execution_count": 59,
      "outputs": []
    },
    {
      "cell_type": "code",
      "source": [
        "X_valid, X_test, Y_valid, Y_test = train_test_split(X_rem,Y_rem, test_size=0.5)"
      ],
      "metadata": {
        "id": "co0DWJigUHr_"
      },
      "execution_count": 61,
      "outputs": []
    },
    {
      "cell_type": "code",
      "source": [
        "print(X_train.shape), print(Y_train.shape)"
      ],
      "metadata": {
        "colab": {
          "base_uri": "https://localhost:8080/"
        },
        "id": "tNC4vlE3ULV-",
        "outputId": "2678f8d9-83db-445a-96a7-04737fc37323"
      },
      "execution_count": 63,
      "outputs": [
        {
          "output_type": "stream",
          "name": "stdout",
          "text": [
            "(420, 24)\n",
            "(420, 1)\n"
          ]
        },
        {
          "output_type": "execute_result",
          "data": {
            "text/plain": [
              "(None, None)"
            ]
          },
          "metadata": {},
          "execution_count": 63
        }
      ]
    },
    {
      "cell_type": "code",
      "source": [
        "print(X_valid.shape), print(Y_valid.shape)\n"
      ],
      "metadata": {
        "colab": {
          "base_uri": "https://localhost:8080/"
        },
        "id": "7it7uoAEXU1j",
        "outputId": "de990be8-1308-4839-e4be-237b202c04df"
      },
      "execution_count": 64,
      "outputs": [
        {
          "output_type": "stream",
          "name": "stdout",
          "text": [
            "(140, 24)\n",
            "(140, 1)\n"
          ]
        },
        {
          "output_type": "execute_result",
          "data": {
            "text/plain": [
              "(None, None)"
            ]
          },
          "metadata": {},
          "execution_count": 64
        }
      ]
    },
    {
      "cell_type": "code",
      "source": [
        "print(X_test.shape), print(Y_test.shape)"
      ],
      "metadata": {
        "colab": {
          "base_uri": "https://localhost:8080/"
        },
        "id": "I8J9WGsHXYM6",
        "outputId": "a6a4fa25-a3a9-47b4-902f-e998e762683d"
      },
      "execution_count": 65,
      "outputs": [
        {
          "output_type": "stream",
          "name": "stdout",
          "text": [
            "(140, 24)\n",
            "(140, 1)\n"
          ]
        },
        {
          "output_type": "execute_result",
          "data": {
            "text/plain": [
              "(None, None)"
            ]
          },
          "metadata": {},
          "execution_count": 65
        }
      ]
    },
    {
      "cell_type": "code",
      "source": [
        "from sklearn.preprocessing import StandardScaler\n",
        "from sklearn.svm import SVC\n",
        "from sklearn.metrics import confusion_matrix\n",
        "from sklearn.metrics import precision_score, recall_score, f1_score, accuracy_score\n",
        "from sklearn.model_selection import train_test_split"
      ],
      "metadata": {
        "id": "SAt9PArXUVWU"
      },
      "execution_count": 66,
      "outputs": []
    },
    {
      "cell_type": "code",
      "source": [
        "sc = StandardScaler()\n",
        "sc.fit(X_train)\n",
        "X_train_std = sc.transform(X_train)\n",
        "X_test_std = sc.transform(X_test)\n",
        "\n",
        "svc = SVC(kernel='linear', C=10.0, random_state=1)\n",
        "svc.fit(X_train, Y_train)         \n",
        "\n",
        "Y_p = svc.predict(X_test)"
      ],
      "metadata": {
        "colab": {
          "base_uri": "https://localhost:8080/"
        },
        "id": "q1KG9zVMUXdG",
        "outputId": "059ec251-c2c4-4e0f-9310-324320406cfc"
      },
      "execution_count": 75,
      "outputs": [
        {
          "output_type": "stream",
          "name": "stderr",
          "text": [
            "/usr/local/lib/python3.7/dist-packages/sklearn/utils/validation.py:993: DataConversionWarning: A column-vector y was passed when a 1d array was expected. Please change the shape of y to (n_samples, ), for example using ravel().\n",
            "  y = column_or_1d(y, warn=True)\n"
          ]
        }
      ]
    },
    {
      "cell_type": "code",
      "source": [
        "print('F1 Score: %.4f' % f1_score(Y_test, Y_p))"
      ],
      "metadata": {
        "colab": {
          "base_uri": "https://localhost:8080/"
        },
        "id": "prN4WyM6UdRg",
        "outputId": "c631fb97-6df4-4c1b-fb17-77a593434850"
      },
      "execution_count": 76,
      "outputs": [
        {
          "output_type": "stream",
          "name": "stdout",
          "text": [
            "F1 Score: 0.9023\n"
          ]
        }
      ]
    },
    {
      "cell_type": "code",
      "source": [
        ""
      ],
      "metadata": {
        "id": "1P1IGRrxUhuQ"
      },
      "execution_count": null,
      "outputs": []
    }
  ]
}